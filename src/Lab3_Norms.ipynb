{
  "nbformat": 4,
  "nbformat_minor": 0,
  "metadata": {
    "colab": {
      "provenance": []
    },
    "kernelspec": {
      "name": "python3",
      "display_name": "Python 3"
    },
    "language_info": {
      "name": "python"
    }
  },
  "cells": [
    {
      "cell_type": "markdown",
      "source": [],
      "metadata": {
        "id": "0t8TkhvsWDRv"
      }
    },
    {
      "cell_type": "markdown",
      "source": [
        "Norms"
      ],
      "metadata": {
        "id": "AJsD15FIWFoz"
      }
    },
    {
      "cell_type": "code",
      "source": [
        "import numpy as np"
      ],
      "metadata": {
        "id": "475oARnxWK6t"
      },
      "execution_count": 10,
      "outputs": []
    },
    {
      "cell_type": "code",
      "source": [
        "y=np.array([[25,2,5]])"
      ],
      "metadata": {
        "id": "zhilDyKJWP94"
      },
      "execution_count": null,
      "outputs": []
    },
    {
      "cell_type": "markdown",
      "source": [
        "L1 Norm"
      ],
      "metadata": {
        "id": "77ReUP1PWfEU"
      }
    },
    {
      "cell_type": "code",
      "source": [
        "np.linalg.norm(y)"
      ],
      "metadata": {
        "colab": {
          "base_uri": "https://localhost:8080/"
        },
        "id": "EeuUjCEeWgva",
        "outputId": "a2c9f893-17fa-40ab-e443-843d37824d5c"
      },
      "execution_count": null,
      "outputs": [
        {
          "output_type": "execute_result",
          "data": {
            "text/plain": [
              "25.573423705088842"
            ]
          },
          "metadata": {},
          "execution_count": 4
        }
      ]
    },
    {
      "cell_type": "markdown",
      "source": [
        "L1 Norm"
      ],
      "metadata": {
        "id": "CfpL2VFTbxJ8"
      }
    },
    {
      "cell_type": "code",
      "source": [
        "np.abs(25)+np.abs(2)+np.abs(5)"
      ],
      "metadata": {
        "colab": {
          "base_uri": "https://localhost:8080/"
        },
        "id": "MqAndfQVb0MI",
        "outputId": "48b33dff-92da-4587-dd41-e14b4384619c"
      },
      "execution_count": null,
      "outputs": [
        {
          "output_type": "execute_result",
          "data": {
            "text/plain": [
              "32"
            ]
          },
          "metadata": {},
          "execution_count": 5
        }
      ]
    },
    {
      "cell_type": "markdown",
      "source": [
        "(L2 Norm)^2"
      ],
      "metadata": {
        "id": "cbTTshufdDxP"
      }
    },
    {
      "cell_type": "code",
      "source": [
        "(25**2+2**2+5**2)"
      ],
      "metadata": {
        "colab": {
          "base_uri": "https://localhost:8080/"
        },
        "id": "6ba82fnVdHD1",
        "outputId": "7c36e213-21d6-40cb-efdb-d903d9aabd2b"
      },
      "execution_count": null,
      "outputs": [
        {
          "output_type": "execute_result",
          "data": {
            "text/plain": [
              "654"
            ]
          },
          "metadata": {},
          "execution_count": 6
        }
      ]
    },
    {
      "cell_type": "code",
      "source": [
        "l1_norm = np.linalg.norm(y, ord=2)\n",
        "print(\"L1 Norm:\", l1_norm)"
      ],
      "metadata": {
        "colab": {
          "base_uri": "https://localhost:8080/"
        },
        "id": "1sj9lFLrd4hW",
        "outputId": "1cdbf5a7-a54f-49ea-d287-9e6835de9dc5"
      },
      "execution_count": null,
      "outputs": [
        {
          "output_type": "stream",
          "name": "stdout",
          "text": [
            "L1 Norm: 25.573423705088842\n"
          ]
        }
      ]
    },
    {
      "cell_type": "markdown",
      "source": [
        "Max Norm"
      ],
      "metadata": {
        "id": "PzY9w9_JyN31"
      }
    },
    {
      "cell_type": "code",
      "source": [
        "max_norm = np.linalg.norm(y, ord=np.inf)\n",
        "print(\"Max Norm (L∞ Norm):\", max_norm)"
      ],
      "metadata": {
        "colab": {
          "base_uri": "https://localhost:8080/"
        },
        "id": "bcKJyC-gySYq",
        "outputId": "0014171a-2149-46cb-b599-2d912387b7ff"
      },
      "execution_count": null,
      "outputs": [
        {
          "output_type": "stream",
          "name": "stdout",
          "text": [
            "Max Norm (L∞ Norm): 32.0\n"
          ]
        }
      ]
    },
    {
      "cell_type": "markdown",
      "source": [
        "Lp Norm"
      ],
      "metadata": {
        "id": "qGXRfvykyfNz"
      }
    },
    {
      "cell_type": "code",
      "source": [
        "\n",
        "\n",
        "y = np.array([3, -4, 5])  # 1D vector\n",
        "lp_norm = np.linalg.norm(y, ord=3)  # L3 norm\n",
        "print(\"L3 Norm:\", lp_norm)\n"
      ],
      "metadata": {
        "colab": {
          "base_uri": "https://localhost:8080/"
        },
        "id": "dzrrDerxybtW",
        "outputId": "78d13c9b-c93a-4990-a70b-12bb3e4d797a"
      },
      "execution_count": null,
      "outputs": [
        {
          "output_type": "stream",
          "name": "stdout",
          "text": [
            "L3 Norm: 5.999999999999999\n"
          ]
        }
      ]
    },
    {
      "cell_type": "code",
      "source": [
        "\n",
        "\n",
        "v = np.array([3, -4, 5])\n",
        "l1_norm = np.linalg.norm(v, ord=1)\n",
        "print(\"L1 Norm:\", l1_norm)\n"
      ],
      "metadata": {
        "colab": {
          "base_uri": "https://localhost:8080/"
        },
        "id": "bdOAPxGQz-MB",
        "outputId": "0d259e6c-f2a9-4c6e-eade-8596e10460af"
      },
      "execution_count": null,
      "outputs": [
        {
          "output_type": "stream",
          "name": "stdout",
          "text": [
            "L1 Norm: 12.0\n"
          ]
        }
      ]
    },
    {
      "cell_type": "code",
      "source": [
        "l2_norm = np.linalg.norm(v, ord=2)\n",
        "print(\"L2 Norm:\", l2_norm)"
      ],
      "metadata": {
        "colab": {
          "base_uri": "https://localhost:8080/"
        },
        "id": "rGJydThC0Q7u",
        "outputId": "2bb17df1-867c-48b2-c7e5-56edec4a1f03"
      },
      "execution_count": null,
      "outputs": [
        {
          "output_type": "stream",
          "name": "stdout",
          "text": [
            "L2 Norm: 7.0710678118654755\n"
          ]
        }
      ]
    },
    {
      "cell_type": "code",
      "source": [
        "max_norm = np.linalg.norm(v, ord=np.inf)\n",
        "print(\"Max Norm (L∞ Norm):\", max_norm)\n"
      ],
      "metadata": {
        "colab": {
          "base_uri": "https://localhost:8080/"
        },
        "id": "Dvf_7--s0YPq",
        "outputId": "d29ae9be-b484-4986-f8ea-bef83e439f2f"
      },
      "execution_count": null,
      "outputs": [
        {
          "output_type": "stream",
          "name": "stdout",
          "text": [
            "Max Norm (L∞ Norm): 5.0\n"
          ]
        }
      ]
    },
    {
      "cell_type": "code",
      "source": [
        "p = 3  # Example with p=3\n",
        "lp_norm = np.linalg.norm(v, ord=p)\n",
        "print(f\"L{p} Norm:\", lp_norm)\n"
      ],
      "metadata": {
        "colab": {
          "base_uri": "https://localhost:8080/"
        },
        "id": "whYLHZ-T0uks",
        "outputId": "fe53bbbf-6375-4914-dcef-8a949e514e5e"
      },
      "execution_count": null,
      "outputs": [
        {
          "output_type": "stream",
          "name": "stdout",
          "text": [
            "L3 Norm: 5.999999999999999\n"
          ]
        }
      ]
    },
    {
      "cell_type": "markdown",
      "source": [
        "Compute L1, L2, Lp, and Max Norms"
      ],
      "metadata": {
        "id": "y35UOp0qoDjT"
      }
    },
    {
      "cell_type": "code",
      "source": [
        "import tensorflow as tf"
      ],
      "metadata": {
        "id": "Th3MP0P7osuT"
      },
      "execution_count": 2,
      "outputs": []
    },
    {
      "cell_type": "code",
      "source": [
        "x = tf.constant([3.0,-4.0,5.0])\n",
        "x"
      ],
      "metadata": {
        "colab": {
          "base_uri": "https://localhost:8080/"
        },
        "id": "k4Wb1if4oNGU",
        "outputId": "7844a121-1d22-4b3f-9840-68f830ae5b9c"
      },
      "execution_count": 5,
      "outputs": [
        {
          "output_type": "execute_result",
          "data": {
            "text/plain": [
              "<tf.Tensor: shape=(3,), dtype=float32, numpy=array([ 3., -4.,  5.], dtype=float32)>"
            ]
          },
          "metadata": {},
          "execution_count": 5
        }
      ]
    },
    {
      "cell_type": "code",
      "source": [
        "l1_norm=tf.norm(x, ord=1)\n",
        "l2_norm=tf.norm(x, ord=2)\n",
        "lp_norm=tf.norm(x, ord=3)\n",
        "max_norm=tf.norm(x, ord=np.inf)\n",
        "\n",
        "print(\"l1 --> \", l1_norm)\n",
        "print(\"l1 --> \", l1_norm.numpy())\n",
        "print(\"l2 --> \",l2_norm.numpy())\n",
        "print(\"lp --> \",lp_norm.numpy())\n",
        "print(\"max --> \",max_norm.numpy())"
      ],
      "metadata": {
        "colab": {
          "base_uri": "https://localhost:8080/"
        },
        "id": "ZxenFbo8o2lf",
        "outputId": "5badc606-dc86-4bda-e2dd-fd946033052f"
      },
      "execution_count": 18,
      "outputs": [
        {
          "output_type": "stream",
          "name": "stdout",
          "text": [
            "l1 -->  tf.Tensor(18.0, shape=(), dtype=float32)\n",
            "l1 -->  18.0\n",
            "l2 -->  9.273619\n",
            "lp -->  7.559527\n",
            "max -->  6.0\n"
          ]
        }
      ]
    },
    {
      "cell_type": "markdown",
      "source": [
        "Using PyTorch"
      ],
      "metadata": {
        "id": "eluUbAX-p4-h"
      }
    },
    {
      "cell_type": "code",
      "source": [
        "import torch\n",
        "\n",
        "x=torch.tensor([3.0,-4.0,5.0])\n",
        "\n",
        "l1_norm = torch.norm(x, p=1)\n",
        "l2_norm = torch.norm(x, p=2)\n",
        "lp_norm = torch.norm(x, p=3)\n",
        "max_norm= torch.norm(x, p=float('inf'))\n",
        "\n",
        "\n",
        "print(\"l1 norm -- > \", l1_norm)\n",
        "print(\"l1 norm -- > \", l1_norm.item())\n",
        "print(\"l2 norm -- > \", l2_norm.item())\n",
        "print(\"l3 norm -- > \", lp_norm.item())\n",
        "print(\"max norm -- > \", max_norm.item())\n",
        "\n",
        "\n"
      ],
      "metadata": {
        "colab": {
          "base_uri": "https://localhost:8080/"
        },
        "id": "4bdGyloSp9Ll",
        "outputId": "71306348-7bd1-4ffa-d453-e180791b7b7e"
      },
      "execution_count": 15,
      "outputs": [
        {
          "output_type": "stream",
          "name": "stdout",
          "text": [
            "l1 norm -- >  tensor(12.)\n",
            "l1 norm -- >  12.0\n",
            "l2 norm -- >  7.071067810058594\n",
            "l3 norm -- >  6.000000476837158\n",
            "max norm -- >  5.0\n"
          ]
        }
      ]
    },
    {
      "cell_type": "markdown",
      "source": [
        "Handling Matrices (2D Tensors) | If x is a matrix, you may need to compute norms row-wise (axis=1) or column-wise (axis=0)."
      ],
      "metadata": {
        "id": "XG-x35QTrQ_r"
      }
    },
    {
      "cell_type": "markdown",
      "source": [
        "TensorFlow: Compute L2 Norm Row-wise"
      ],
      "metadata": {
        "id": "RK3RD7LwsZHi"
      }
    },
    {
      "cell_type": "code",
      "source": [
        "x=tf.constant([[3.0, -4.0], [5.0, 6.0]])\n",
        "l2_norm_row= tf.norm(x, ord=2, axis=1)\n",
        "print(\"Row-wise L2 Norm:\", l2_norm_row.numpy())"
      ],
      "metadata": {
        "colab": {
          "base_uri": "https://localhost:8080/"
        },
        "id": "GutPVvFxrXIA",
        "outputId": "f4e7da05-64e7-41a0-a48e-6a5db2b34c7d"
      },
      "execution_count": 21,
      "outputs": [
        {
          "output_type": "stream",
          "name": "stdout",
          "text": [
            "Row-wise L2 Norm: [5.      7.81025]\n"
          ]
        }
      ]
    },
    {
      "cell_type": "code",
      "source": [
        "x=tf.constant([[3.0, -4.0], [5.0, 6.0]])\n",
        "max_norm_row= tf.norm(x, ord=np.inf, axis=1)\n",
        "print(\"Row-wise max Norm:\", max_norm_row.numpy())"
      ],
      "metadata": {
        "colab": {
          "base_uri": "https://localhost:8080/"
        },
        "id": "s0r1AY_etGNb",
        "outputId": "6da017a2-6a66-45a0-ae9a-f53a50806cc8"
      },
      "execution_count": 22,
      "outputs": [
        {
          "output_type": "stream",
          "name": "stdout",
          "text": [
            "Row-wise max Norm: [4. 6.]\n"
          ]
        }
      ]
    },
    {
      "cell_type": "markdown",
      "source": [
        "PyTorch: Compute L2 Norm Column-wise"
      ],
      "metadata": {
        "id": "LWhy4EHnscW3"
      }
    },
    {
      "cell_type": "code",
      "source": [
        "x=torch.tensor([[3.0,-4.0],[5.0,6.0]])\n",
        "l2_norm_columns=torch.norm(x, p=2, dim=0)\n",
        "print(\"column-wise l2 Norm : \", l2_norm_columns.numpy())"
      ],
      "metadata": {
        "colab": {
          "base_uri": "https://localhost:8080/"
        },
        "id": "3WCcwB-usf0Z",
        "outputId": "012b9cbc-04a1-4f7a-a0ae-44297164672b"
      },
      "execution_count": 20,
      "outputs": [
        {
          "output_type": "stream",
          "name": "stdout",
          "text": [
            "column-wise l2 Norm :  [5.8309517 7.2111025]\n"
          ]
        }
      ]
    },
    {
      "cell_type": "code",
      "source": [
        "x=torch.tensor([[3.0,-4.0],[5.0,6.0]])\n",
        "max_norm_columns=torch.norm(x, p=float('inf'), dim=0)\n",
        "print(\"column-wise  max Norm : \", max_norm_columns.numpy())"
      ],
      "metadata": {
        "colab": {
          "base_uri": "https://localhost:8080/"
        },
        "id": "A-TRzyt9tWuk",
        "outputId": "f732cae6-eb14-4975-c02c-c8958502803a"
      },
      "execution_count": 24,
      "outputs": [
        {
          "output_type": "stream",
          "name": "stdout",
          "text": [
            "column-wise  max Norm :  [5. 6.]\n"
          ]
        }
      ]
    },
    {
      "cell_type": "markdown",
      "source": [
        "Squared L2 Norm"
      ],
      "metadata": {
        "id": "yDAVtEActq5E"
      }
    },
    {
      "cell_type": "markdown",
      "source": [
        "Using NumPy"
      ],
      "metadata": {
        "id": "8HQl7eA_tsBM"
      }
    },
    {
      "cell_type": "code",
      "source": [
        "x=np.array([3,-4,5])\n",
        "l2_squared_norm=np.linalg.norm(x, ord=2) ** 2\n",
        "l2_squared_norm_alt=np.dot(x,x)\n",
        "l2_squared_norm_alt2 = np.sum(x**2)\n",
        "\n",
        "print(\"l2_squared_norm -- > \", l2_squared_norm)\n",
        "print(\"2_squared_norm_alt --> \", l2_squared_norm_alt)\n",
        "print(\"2_squared_norm_alt efficient --> \", l2_squared_norm_alt2)"
      ],
      "metadata": {
        "colab": {
          "base_uri": "https://localhost:8080/"
        },
        "id": "9iHSwiUnvGCh",
        "outputId": "5ed55286-a84c-4ce0-f058-343a1d291e92"
      },
      "execution_count": 29,
      "outputs": [
        {
          "output_type": "stream",
          "name": "stdout",
          "text": [
            "l2_squared_norm -- >  50.00000000000001\n",
            "2_squared_norm_alt -->  50\n",
            "2_squared_norm_alt efficient -->  50\n"
          ]
        }
      ]
    },
    {
      "cell_type": "markdown",
      "source": [
        "Using PyTorch"
      ],
      "metadata": {
        "id": "OtntP41cwZ55"
      }
    },
    {
      "cell_type": "code",
      "source": [
        "import torch\n",
        "x=torch.tensor([3.0, -4, 5])\n",
        "l2_squared_normt=torch.norm(x,p=2)**2\n",
        "l2_squared_normt_alt=torch.dot(x,x)\n",
        "l2_squared_normt_alt2=torch.sum(x**2)\n",
        "\n",
        "print(\"l2_squared_normt \", l2_squared_normt)\n",
        "print(\"l2_squared_normt alt\", l2_squared_normt_alt)\n",
        "print(\"l2_squared_normt alt efficient\", l2_squared_normt_alt2)\n"
      ],
      "metadata": {
        "colab": {
          "base_uri": "https://localhost:8080/"
        },
        "id": "XUQ_MsRMwdWb",
        "outputId": "e4310980-64bc-4d8a-9805-7db23601dcc2"
      },
      "execution_count": 33,
      "outputs": [
        {
          "output_type": "stream",
          "name": "stdout",
          "text": [
            "l2_squared_normt  tensor(50.)\n",
            "l2_squared_normt alt tensor(50.)\n",
            "l2_squared_normt alt efficient tensor(50.)\n"
          ]
        }
      ]
    },
    {
      "cell_type": "markdown",
      "source": [
        "Using TensorFlow"
      ],
      "metadata": {
        "id": "UkdrYlVdxjVX"
      }
    },
    {
      "cell_type": "code",
      "source": [
        "import tensorflow as tf\n",
        "x=tf.constant([3.0,-4.0,5.0])\n",
        "\n",
        "l2_sq_norm=tf.norm(x, ord=2) ** 2\n",
        "\n",
        "l2_sq_norm_alt=tf.tensordot(x,x, axes=1)\n",
        "\n",
        "l2_sq_norm_alt2=tf.reduce_sum(tf.square(x))\n",
        "\n",
        "print(\"l2_sq_norm \", l2_sq_norm.numpy())\n",
        "print(\"l2_sq_norm_alt \", l2_sq_norm_alt.numpy())\n",
        "print(\"l2_sq_norm_alt2 efficient\", l2_sq_norm_alt2.numpy())\n"
      ],
      "metadata": {
        "colab": {
          "base_uri": "https://localhost:8080/"
        },
        "id": "KRcR6CnWxo6m",
        "outputId": "79839281-dd9d-487c-a58f-f6428ddcb2ad"
      },
      "execution_count": 36,
      "outputs": [
        {
          "output_type": "stream",
          "name": "stdout",
          "text": [
            "l2_sq_norm  50.0\n",
            "l2_sq_norm_alt  50.0\n",
            "l2_sq_norm_alt2 efficient 50.0\n"
          ]
        }
      ]
    }
  ]
}