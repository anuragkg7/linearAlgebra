{
  "nbformat": 4,
  "nbformat_minor": 0,
  "metadata": {
    "colab": {
      "provenance": []
    },
    "kernelspec": {
      "name": "python3",
      "display_name": "Python 3"
    },
    "language_info": {
      "name": "python"
    }
  },
  "cells": [
    {
      "cell_type": "markdown",
      "source": [
        "Orthogonal Vectors"
      ],
      "metadata": {
        "id": "vxxCQEvGUMLE"
      }
    },
    {
      "cell_type": "code",
      "source": [
        "import numpy as np"
      ],
      "metadata": {
        "id": "WQxgwFfDUXQE"
      },
      "execution_count": null,
      "outputs": []
    },
    {
      "cell_type": "code",
      "source": [
        "i = np.array([1,0])\n",
        "print(i)"
      ],
      "metadata": {
        "colab": {
          "base_uri": "https://localhost:8080/"
        },
        "id": "yXBIs-7oUsUl",
        "outputId": "a42e0891-0a0f-4378-96a0-2e52bc7aa3f4"
      },
      "execution_count": null,
      "outputs": [
        {
          "output_type": "stream",
          "name": "stdout",
          "text": [
            "[1 0]\n"
          ]
        }
      ]
    },
    {
      "cell_type": "code",
      "source": [
        "j = np.array([0,1])\n",
        "print(j)"
      ],
      "metadata": {
        "colab": {
          "base_uri": "https://localhost:8080/"
        },
        "id": "NwfIyi7oUzpR",
        "outputId": "fd529762-0191-470c-8539-7fdd185940a2"
      },
      "execution_count": null,
      "outputs": [
        {
          "output_type": "stream",
          "name": "stdout",
          "text": [
            "[0 1]\n"
          ]
        }
      ]
    },
    {
      "cell_type": "markdown",
      "source": [
        "For Orthogonal vector dot product will be zero"
      ],
      "metadata": {
        "id": "5xBfv8CxVHgq"
      }
    },
    {
      "cell_type": "code",
      "source": [
        "np.dot(i,j)"
      ],
      "metadata": {
        "colab": {
          "base_uri": "https://localhost:8080/"
        },
        "id": "Kbk-LczsU6aL",
        "outputId": "e666f345-cc19-46ab-cbb4-49d7ff339a27"
      },
      "execution_count": null,
      "outputs": [
        {
          "output_type": "execute_result",
          "data": {
            "text/plain": [
              "0"
            ]
          },
          "metadata": {},
          "execution_count": 5
        }
      ]
    },
    {
      "cell_type": "markdown",
      "source": [
        "Vectors are **Orthonormal** if an only if dot product is zero and L2 Norm = 1"
      ],
      "metadata": {
        "id": "07Mksh6JVQ4q"
      }
    },
    {
      "cell_type": "code",
      "source": [
        "l2Norm_i=np.linalg.norm(i, ord=2)\n",
        "l2Norm_j=np.linalg.norm(j, ord=2)\n",
        "\n",
        "print(\"l2Norm_i \",l2Norm_i)\n",
        "print(\"l2Norm_j \",l2Norm_j)"
      ],
      "metadata": {
        "colab": {
          "base_uri": "https://localhost:8080/"
        },
        "id": "4pD3XUDtVgN2",
        "outputId": "05d5ce1a-b2f7-4106-b9dd-157ab0854d90"
      },
      "execution_count": null,
      "outputs": [
        {
          "output_type": "stream",
          "name": "stdout",
          "text": [
            "l2Norm_i  1.0\n",
            "l2Norm_j  1.0\n"
          ]
        }
      ]
    }
  ]
}