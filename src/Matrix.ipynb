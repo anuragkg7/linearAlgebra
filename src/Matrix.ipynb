{
  "nbformat": 4,
  "nbformat_minor": 0,
  "metadata": {
    "colab": {
      "provenance": []
    },
    "kernelspec": {
      "name": "python3",
      "display_name": "Python 3"
    },
    "language_info": {
      "name": "python"
    }
  },
  "cells": [
    {
      "cell_type": "markdown",
      "source": [
        "Creating a 2D Matrix (Height × Width)"
      ],
      "metadata": {
        "id": "JLqKsrw0C6Ux"
      }
    },
    {
      "cell_type": "code",
      "source": [
        "import numpy as np\n",
        "\n",
        "matrix_2d = np.array([\n",
        "    [1,2,3],\n",
        "    [4,5,6],\n",
        "    [7,8,9]\n",
        "])\n",
        "\n",
        "print(matrix_2d.shape)\n",
        "print(matrix_2d)\n",
        "\n",
        "print(matrix_2d.size)\n",
        "\n",
        "print(matrix_2d[:,0]) # Select Left Column Matrix\n",
        "print(matrix_2d[1,:]) # Select Middle ROw\n",
        "print(matrix_2d[0:2,0:2])"
      ],
      "metadata": {
        "colab": {
          "base_uri": "https://localhost:8080/"
        },
        "id": "I1C7HXpjC_Qn",
        "outputId": "23f9a43e-0e3b-4a2d-fcff-132e63a2d6e7"
      },
      "execution_count": 17,
      "outputs": [
        {
          "output_type": "stream",
          "name": "stdout",
          "text": [
            "(3, 3)\n",
            "[[1 2 3]\n",
            " [4 5 6]\n",
            " [7 8 9]]\n",
            "9\n",
            "[1 4 7]\n",
            "[4 5 6]\n",
            "[[1 2]\n",
            " [4 5]]\n"
          ]
        }
      ]
    },
    {
      "cell_type": "markdown",
      "source": [
        "Creating 3D matrix ( 2 layers of 3x3)"
      ],
      "metadata": {
        "id": "58ZjVmVqDbBD"
      }
    },
    {
      "cell_type": "code",
      "source": [
        "matrix_3d=np.array([\n",
        "    [[1,2,3],\n",
        "    [4,5,6],\n",
        "    [7,8,9]],\n",
        "\n",
        "    [[10,11,12],\n",
        "     [13,14,15],\n",
        "     [16,17,18]]\n",
        "])\n",
        "\n",
        "print(matrix_3d.shape)\n",
        "print(matrix_3d)\n",
        "print(matrix_3d.size)"
      ],
      "metadata": {
        "colab": {
          "base_uri": "https://localhost:8080/"
        },
        "id": "VkiOzVDmDj8j",
        "outputId": "d5eb5fb4-5f17-4120-c338-47480939b511"
      },
      "execution_count": 11,
      "outputs": [
        {
          "output_type": "stream",
          "name": "stdout",
          "text": [
            "(2, 3, 3)\n",
            "[[[ 1  2  3]\n",
            "  [ 4  5  6]\n",
            "  [ 7  8  9]]\n",
            "\n",
            " [[10 11 12]\n",
            "  [13 14 15]\n",
            "  [16 17 18]]]\n",
            "18\n"
          ]
        }
      ]
    },
    {
      "cell_type": "markdown",
      "source": [
        "Creating an nD Matrix (4D)"
      ],
      "metadata": {
        "id": "ntA24c-uERq-"
      }
    },
    {
      "cell_type": "code",
      "source": [
        "matrix_4d=np.random.rand(2,3,3,3)\n",
        "\n",
        "print(matrix_4d.shape)\n",
        "\n",
        "#print(matrix_4d)\n",
        "\n",
        "matrix_4d_z=np.zeros((2,3,3,3))\n",
        "\n",
        "print(matrix_4d_z.shape)\n",
        "\n",
        "print(matrix_4d_z)"
      ],
      "metadata": {
        "colab": {
          "base_uri": "https://localhost:8080/"
        },
        "id": "kjLnGVMBEX3b",
        "outputId": "ad005625-2910-4230-bbcb-339ffa676d15"
      },
      "execution_count": 29,
      "outputs": [
        {
          "output_type": "stream",
          "name": "stdout",
          "text": [
            "(2, 3, 3, 3)\n",
            "(2, 3, 3, 3)\n",
            "[[[[0. 0. 0.]\n",
            "   [0. 0. 0.]\n",
            "   [0. 0. 0.]]\n",
            "\n",
            "  [[0. 0. 0.]\n",
            "   [0. 0. 0.]\n",
            "   [0. 0. 0.]]\n",
            "\n",
            "  [[0. 0. 0.]\n",
            "   [0. 0. 0.]\n",
            "   [0. 0. 0.]]]\n",
            "\n",
            "\n",
            " [[[0. 0. 0.]\n",
            "   [0. 0. 0.]\n",
            "   [0. 0. 0.]]\n",
            "\n",
            "  [[0. 0. 0.]\n",
            "   [0. 0. 0.]\n",
            "   [0. 0. 0.]]\n",
            "\n",
            "  [[0. 0. 0.]\n",
            "   [0. 0. 0.]\n",
            "   [0. 0. 0.]]]]\n"
          ]
        }
      ]
    },
    {
      "cell_type": "markdown",
      "source": [
        "2D Tensor Using PyTorch"
      ],
      "metadata": {
        "id": "g6j7TcikE5jk"
      }
    },
    {
      "cell_type": "code",
      "source": [
        "import torch\n",
        "\n",
        "tensor_2d=torch.tensor([\n",
        "    [1,2,3],\n",
        "    [4,5,6]\n",
        "])\n",
        "\n",
        "print(tensor_2d.shape)\n",
        "print(tensor_2d)\n"
      ],
      "metadata": {
        "colab": {
          "base_uri": "https://localhost:8080/"
        },
        "id": "AS0O011bE97w",
        "outputId": "b9edc3e2-80ab-4091-f315-b649c1ea8a21"
      },
      "execution_count": 5,
      "outputs": [
        {
          "output_type": "stream",
          "name": "stdout",
          "text": [
            "torch.Size([2, 3])\n",
            "tensor([[1, 2, 3],\n",
            "        [4, 5, 6]])\n"
          ]
        }
      ]
    },
    {
      "cell_type": "markdown",
      "source": [
        "3D Tensor using PyTorch"
      ],
      "metadata": {
        "id": "-OtLpUOfFY4R"
      }
    },
    {
      "cell_type": "code",
      "source": [
        "tensor_3D =  torch.tensor([\n",
        "    [\n",
        "        [1,2,3],\n",
        "        [4,5,6]\n",
        "    ],\n",
        "    [\n",
        "        [7,8,9],\n",
        "        [10,11,12]\n",
        "    ]\n",
        "])\n",
        "\n",
        "print(tensor_3D.shape)\n",
        "print(tensor_3D)"
      ],
      "metadata": {
        "colab": {
          "base_uri": "https://localhost:8080/"
        },
        "id": "BiAn3ZApFdda",
        "outputId": "880dc2aa-40de-4bb2-d388-cb862c48a09e"
      },
      "execution_count": 6,
      "outputs": [
        {
          "output_type": "stream",
          "name": "stdout",
          "text": [
            "torch.Size([2, 2, 3])\n",
            "tensor([[[ 1,  2,  3],\n",
            "         [ 4,  5,  6]],\n",
            "\n",
            "        [[ 7,  8,  9],\n",
            "         [10, 11, 12]]])\n"
          ]
        }
      ]
    },
    {
      "cell_type": "markdown",
      "source": [
        "2D Tensor using Tensor Flow"
      ],
      "metadata": {
        "id": "91UyD9QQGSby"
      }
    },
    {
      "cell_type": "code",
      "source": [
        "import tensorflow as tf\n",
        "\n",
        "tensor_2d=tf.constant([\n",
        "    [1,2,3,4],\n",
        "    [5,6,7,8]\n",
        "])\n",
        "\n",
        "print(tensor_2d.shape)\n",
        "print(tensor_2d)\n",
        "tf.rank(tensor_2d)\n",
        "\n",
        "tensor_2d_ALt=tf.Variable([\n",
        "    [1,2,3,4],\n",
        "    [5,6,7,8]\n",
        "])\n",
        "\n",
        "print(tensor_2d_ALt.shape)\n",
        "print(tensor_2d_ALt)\n",
        "tf.shape(tensor_2d_ALt)"
      ],
      "metadata": {
        "colab": {
          "base_uri": "https://localhost:8080/"
        },
        "id": "JEBU-x4yGYg1",
        "outputId": "7f28a7a0-cd48-4b75-c0ca-2f32ea688c3b"
      },
      "execution_count": 20,
      "outputs": [
        {
          "output_type": "stream",
          "name": "stdout",
          "text": [
            "(2, 4)\n",
            "tf.Tensor(\n",
            "[[1 2 3 4]\n",
            " [5 6 7 8]], shape=(2, 4), dtype=int32)\n",
            "(2, 4)\n",
            "<tf.Variable 'Variable:0' shape=(2, 4) dtype=int32, numpy=\n",
            "array([[1, 2, 3, 4],\n",
            "       [5, 6, 7, 8]], dtype=int32)>\n"
          ]
        },
        {
          "output_type": "execute_result",
          "data": {
            "text/plain": [
              "<tf.Tensor: shape=(2,), dtype=int32, numpy=array([2, 4], dtype=int32)>"
            ]
          },
          "metadata": {},
          "execution_count": 20
        }
      ]
    },
    {
      "cell_type": "markdown",
      "source": [
        "3D  Tensor using Tensor FLow"
      ],
      "metadata": {
        "id": "4JIDkPbYt7PP"
      }
    },
    {
      "cell_type": "code",
      "source": [
        "tensor_3d=tf.constant([\n",
        "    [\n",
        "        [1,2,3],\n",
        "        [4,5,6]\n",
        "    ],\n",
        "    [\n",
        "        [7,8,9],\n",
        "        [10,11,12]\n",
        "    ]\n",
        "])\n",
        "print(tensor_3d.shape)\n",
        "print(tensor_3d)"
      ],
      "metadata": {
        "colab": {
          "base_uri": "https://localhost:8080/"
        },
        "id": "IHG9BCtguBsd",
        "outputId": "f4ce2ef2-128c-4571-9f59-6bc65a64e9ae"
      },
      "execution_count": 2,
      "outputs": [
        {
          "output_type": "stream",
          "name": "stdout",
          "text": [
            "(2, 2, 3)\n",
            "tf.Tensor(\n",
            "[[[ 1  2  3]\n",
            "  [ 4  5  6]]\n",
            "\n",
            " [[ 7  8  9]\n",
            "  [10 11 12]]], shape=(2, 2, 3), dtype=int32)\n"
          ]
        }
      ]
    },
    {
      "cell_type": "markdown",
      "source": [
        "5D Tensor in TensorFlow"
      ],
      "metadata": {
        "id": "CmscLdnfu8pY"
      }
    },
    {
      "cell_type": "code",
      "source": [
        "tensor_5d=tf.random.uniform((2,5,64,64,3))\n",
        "print(tensor_5d.shape)\n",
        "#print(tensor_5d)\n",
        "\n",
        "tensor_5d_z=tf.zeros((2,5,64,64,3))\n",
        "print(tensor_5d_z.shape)\n",
        "#print(tensor_5d_z)"
      ],
      "metadata": {
        "colab": {
          "base_uri": "https://localhost:8080/"
        },
        "id": "psTBkMRQvFah",
        "outputId": "42b0e689-7ffd-4131-9ae6-a4b6090d71a1"
      },
      "execution_count": 27,
      "outputs": [
        {
          "output_type": "stream",
          "name": "stdout",
          "text": [
            "(2, 5, 64, 64, 3)\n",
            "(2, 5, 64, 64, 3)\n"
          ]
        }
      ]
    },
    {
      "cell_type": "markdown",
      "source": [
        "5D Tensor in Pytorch"
      ],
      "metadata": {
        "id": "3vAGCLazvl1J"
      }
    },
    {
      "cell_type": "code",
      "source": [
        "import torch\n",
        "\n",
        "tensor_5D = torch.rand(2,5,64,64,3)\n",
        "\n",
        "print(tensor_5D.shape)\n",
        "\n",
        "\n",
        "tensor_4d= torch.zeros([32,28,38,3])\n",
        "print(tensor_4d.shape)\n",
        "#print(tensor_4d)\n"
      ],
      "metadata": {
        "colab": {
          "base_uri": "https://localhost:8080/"
        },
        "id": "k7ixWMdavyLs",
        "outputId": "64a425e0-54b8-4a70-a33e-a13fd72d2ffa"
      },
      "execution_count": 22,
      "outputs": [
        {
          "output_type": "stream",
          "name": "stdout",
          "text": [
            "torch.Size([2, 5, 64, 64, 3])\n",
            "torch.Size([32, 28, 38, 3])\n"
          ]
        }
      ]
    }
  ]
}