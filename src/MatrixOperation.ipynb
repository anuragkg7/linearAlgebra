{
  "nbformat": 4,
  "nbformat_minor": 0,
  "metadata": {
    "colab": {
      "provenance": []
    },
    "kernelspec": {
      "name": "python3",
      "display_name": "Python 3"
    },
    "language_info": {
      "name": "python"
    }
  },
  "cells": [
    {
      "cell_type": "markdown",
      "source": [
        "**Tensor Operations**"
      ],
      "metadata": {
        "id": "uT6k_JRFQxGk"
      }
    },
    {
      "cell_type": "code",
      "source": [
        "import numpy as np\n",
        "A=np.array([[1,2],[3,4]])\n",
        "k=2\n",
        "\n",
        "print(A+k)\n",
        "\n",
        "print(A-k)\n",
        "\n",
        "print(A*k)\n",
        "\n",
        "print(A/k)\n",
        "\n",
        "print(np.linalg.matrix_power(A,k))"
      ],
      "metadata": {
        "colab": {
          "base_uri": "https://localhost:8080/"
        },
        "id": "IZC7PKElOUrd",
        "outputId": "800d00be-03f3-4ad1-fadb-e3bda3daaec5"
      },
      "execution_count": 2,
      "outputs": [
        {
          "output_type": "stream",
          "name": "stdout",
          "text": [
            "[[3 4]\n",
            " [5 6]]\n",
            "[[-1  0]\n",
            " [ 1  2]]\n",
            "[[2 4]\n",
            " [6 8]]\n",
            "[[0.5 1. ]\n",
            " [1.5 2. ]]\n",
            "[[ 7 10]\n",
            " [15 22]]\n"
          ]
        }
      ]
    },
    {
      "cell_type": "markdown",
      "source": [
        "Tensor Flow"
      ],
      "metadata": {
        "id": "bYEa0RexPP3u"
      }
    },
    {
      "cell_type": "code",
      "source": [
        "import tensorflow as tf\n",
        "\n",
        "A=tf.constant([[1,2],[3,4]], dtype=tf.float32)\n",
        "k=2\n",
        "\n",
        "print(A+k)\n",
        "\n",
        "print(A-k)\n",
        "\n",
        "print(A*k)\n",
        "\n",
        "print(A/k)\n",
        "\n",
        "print(tf.linalg.matmul(A,A))\n"
      ],
      "metadata": {
        "colab": {
          "base_uri": "https://localhost:8080/"
        },
        "id": "VOUbDoSaPSz_",
        "outputId": "fa1c5606-ac89-4818-f224-8a3a71239060"
      },
      "execution_count": 3,
      "outputs": [
        {
          "output_type": "stream",
          "name": "stdout",
          "text": [
            "tf.Tensor(\n",
            "[[3. 4.]\n",
            " [5. 6.]], shape=(2, 2), dtype=float32)\n",
            "tf.Tensor(\n",
            "[[-1.  0.]\n",
            " [ 1.  2.]], shape=(2, 2), dtype=float32)\n",
            "tf.Tensor(\n",
            "[[2. 4.]\n",
            " [6. 8.]], shape=(2, 2), dtype=float32)\n",
            "tf.Tensor(\n",
            "[[0.5 1. ]\n",
            " [1.5 2. ]], shape=(2, 2), dtype=float32)\n",
            "tf.Tensor(\n",
            "[[ 7. 10.]\n",
            " [15. 22.]], shape=(2, 2), dtype=float32)\n"
          ]
        }
      ]
    },
    {
      "cell_type": "markdown",
      "source": [
        "PyTorch"
      ],
      "metadata": {
        "id": "HKOxhQRlP6SD"
      }
    },
    {
      "cell_type": "code",
      "source": [
        "import torch\n",
        "\n",
        "A=torch.tensor([[1,2],[3,4]], dtype=torch.float32)\n",
        "k=torch.tensor(2.0)\n",
        "print(A+k)\n",
        "\n",
        "print(A-k)\n",
        "\n",
        "print(A*k)\n",
        "\n",
        "print(A/k)\n",
        "\n",
        "print(torch.matrix_power(A, int(k)))"
      ],
      "metadata": {
        "colab": {
          "base_uri": "https://localhost:8080/"
        },
        "id": "dFiokQSzP8bB",
        "outputId": "2b3442fb-ebac-4014-8a90-519531307922"
      },
      "execution_count": 5,
      "outputs": [
        {
          "output_type": "stream",
          "name": "stdout",
          "text": [
            "tensor([[3., 4.],\n",
            "        [5., 6.]])\n",
            "tensor([[-1.,  0.],\n",
            "        [ 1.,  2.]])\n",
            "tensor([[2., 4.],\n",
            "        [6., 8.]])\n",
            "tensor([[0.5000, 1.0000],\n",
            "        [1.5000, 2.0000]])\n",
            "tensor([[ 7., 10.],\n",
            "        [15., 22.]])\n"
          ]
        }
      ]
    },
    {
      "cell_type": "markdown",
      "source": [
        "Matrix Vs Matrix Operations"
      ],
      "metadata": {
        "id": "3u2ofef4RA8A"
      }
    },
    {
      "cell_type": "markdown",
      "source": [
        "NumPy Implementation"
      ],
      "metadata": {
        "id": "cQ8_PIpCSR8w"
      }
    },
    {
      "cell_type": "code",
      "source": [
        "import numpy as np\n",
        "\n",
        "A = np.array([[2,3],[1,4]])\n",
        "B = np.array([[5,6],[7,8]])\n",
        "\n",
        "#addition\n",
        "\n",
        "print(A+B)\n",
        "\n",
        "#Substraction\n",
        "\n",
        "print(A-B)\n",
        "\n",
        "#Dot Product(Matrix Multiplication)\n",
        "\n",
        "print(np.dot(A,B))\n",
        "\n",
        "# Hadmard product\n",
        "\n",
        "print(A*B)\n",
        "\n",
        "#Elementwise division\n",
        "\n",
        "print(A/B)\n",
        "\n",
        "# Division using Inverse\n",
        "B_inv=np.linalg.inv(B)\n",
        "print(np.dot(A,B_inv))"
      ],
      "metadata": {
        "colab": {
          "base_uri": "https://localhost:8080/"
        },
        "id": "_MGj0rFJSY4C",
        "outputId": "b466c5ea-603f-4a3a-f2b3-9cf5fb1e59f6"
      },
      "execution_count": 7,
      "outputs": [
        {
          "output_type": "stream",
          "name": "stdout",
          "text": [
            "[[ 7  9]\n",
            " [ 8 12]]\n",
            "[[-3 -3]\n",
            " [-6 -4]]\n",
            "[[31 36]\n",
            " [33 38]]\n",
            "[[10 18]\n",
            " [ 7 32]]\n",
            "[[0.4        0.5       ]\n",
            " [0.14285714 0.5       ]]\n",
            "[[ 2.5 -1.5]\n",
            " [10.  -7. ]]\n"
          ]
        }
      ]
    },
    {
      "cell_type": "markdown",
      "source": [
        "Using Pytorch"
      ],
      "metadata": {
        "id": "U1n6Ac0BTsne"
      }
    },
    {
      "cell_type": "code",
      "source": [
        "import torch\n",
        "\n",
        "A=torch.tensor([[2,3],[1,4]], dtype=torch.float32)\n",
        "B=torch.tensor([[5,6],[7,8]], dtype=torch.float32)\n",
        "\n",
        "#addition\n",
        "\n",
        "print(A+B)\n",
        "\n",
        "#Substraction\n",
        "\n",
        "print(A-B)\n",
        "\n",
        "#dotProduct\n",
        "\n",
        "print(torch.mm(A,B))\n",
        "\n",
        "#Hadamard_Product\n",
        "\n",
        "print(A*B)\n",
        "\n",
        "#Element wise division\n",
        "\n",
        "print(A/B)\n",
        "\n",
        "#Division  using inverse\n",
        "B_inv=torch.inverse(B)\n",
        "print(torch.mm(A,B_inv))\n"
      ],
      "metadata": {
        "colab": {
          "base_uri": "https://localhost:8080/"
        },
        "id": "wLZeQIHcTxqV",
        "outputId": "1e8cb700-e863-4540-bf56-1aa8cde015b9"
      },
      "execution_count": 8,
      "outputs": [
        {
          "output_type": "stream",
          "name": "stdout",
          "text": [
            "tensor([[ 7.,  9.],\n",
            "        [ 8., 12.]])\n",
            "tensor([[-3., -3.],\n",
            "        [-6., -4.]])\n",
            "tensor([[31., 36.],\n",
            "        [33., 38.]])\n",
            "tensor([[10., 18.],\n",
            "        [ 7., 32.]])\n",
            "tensor([[0.4000, 0.5000],\n",
            "        [0.1429, 0.5000]])\n",
            "tensor([[ 2.5000, -1.5000],\n",
            "        [10.0000, -7.0000]])\n"
          ]
        }
      ]
    },
    {
      "cell_type": "markdown",
      "source": [
        "Using Tensor Flow"
      ],
      "metadata": {
        "id": "6YJbOxkPU-Wj"
      }
    },
    {
      "cell_type": "code",
      "source": [
        "import tensorflow as tf\n",
        "\n",
        "A=tf.constant([[2,3],[1,4]], dtype=tf.float32)\n",
        "B=tf.constant([[5,6],[7,8]], dtype=tf.float32)\n",
        "\n",
        "#addition\n",
        "print( tf.add(A,B))\n",
        "\n",
        "#substraction\n",
        "print(tf.subtract(A,B))\n",
        "\n",
        "\n",
        "#Dot product\n",
        "print(tf.linalg.matmul(A,B))\n",
        "\n",
        "#Hadmard Product\n",
        "print(tf.multiply(A,B))\n",
        "\n",
        "#Element wise divide\n",
        "print(tf.divide(A,B))\n",
        "\n",
        "#Division using Inverse\n",
        "B_inv=tf.linalg.inv(B)\n",
        "print(tf.linalg.matmul(A,B_inv))"
      ],
      "metadata": {
        "colab": {
          "base_uri": "https://localhost:8080/"
        },
        "id": "AaDCzIdCVI51",
        "outputId": "72c480d8-3d1b-4b7c-fef9-49a182c35ea3"
      },
      "execution_count": 11,
      "outputs": [
        {
          "output_type": "stream",
          "name": "stdout",
          "text": [
            "tf.Tensor(\n",
            "[[ 7.  9.]\n",
            " [ 8. 12.]], shape=(2, 2), dtype=float32)\n",
            "tf.Tensor(\n",
            "[[-3. -3.]\n",
            " [-6. -4.]], shape=(2, 2), dtype=float32)\n",
            "tf.Tensor(\n",
            "[[31. 36.]\n",
            " [33. 38.]], shape=(2, 2), dtype=float32)\n",
            "tf.Tensor(\n",
            "[[10. 18.]\n",
            " [ 7. 32.]], shape=(2, 2), dtype=float32)\n",
            "tf.Tensor(\n",
            "[[0.4        0.5       ]\n",
            " [0.14285715 0.5       ]], shape=(2, 2), dtype=float32)\n",
            "tf.Tensor(\n",
            "[[ 2.500001  -1.500001 ]\n",
            " [10.000005  -7.0000033]], shape=(2, 2), dtype=float32)\n"
          ]
        }
      ]
    },
    {
      "cell_type": "markdown",
      "source": [
        "Matrix determinant and adjugate (adjoint)"
      ],
      "metadata": {
        "id": "pAyyYyKjXiei"
      }
    },
    {
      "cell_type": "code",
      "source": [
        "import numpy as np\n",
        "\n",
        "# Define matrix A\n",
        "A = np.array([[2, 3, 1], [4, 5, 6], [7, 8, 9]], dtype=np.float64)\n",
        "\n",
        "\n",
        "det_A = np.linalg.det(A)\n",
        "print(\"det_A\\n\", det_A)\n",
        "\n",
        "A_inv = np.linalg.inv(A)\n",
        "print(\"A_inv:\\n\", A_inv)\n",
        "\n",
        "\n",
        "cofactor_A = (A_inv * det_A).T  # Transpose of adjugate matrix\n",
        "print(\"cofactor_A:\\n\", cofactor_A)\n",
        "\n",
        "adj_A = cofactor_A.T\n",
        "print(\"\\nAdjugate Matrix (Adj(A)):\\n\", adj_A)\n"
      ],
      "metadata": {
        "colab": {
          "base_uri": "https://localhost:8080/"
        },
        "id": "m1W_R6ltXlK6",
        "outputId": "11ee4b4b-4aae-4f6d-86bb-5626363cda6a"
      },
      "execution_count": 21,
      "outputs": [
        {
          "output_type": "stream",
          "name": "stdout",
          "text": [
            "det_A\n",
            " 9.000000000000005\n",
            "A_inv:\n",
            " [[-0.33333333 -2.11111111  1.44444444]\n",
            " [ 0.66666667  1.22222222 -0.88888889]\n",
            " [-0.33333333  0.55555556 -0.22222222]]\n",
            "cofactor_A:\n",
            " [[ -3.   6.  -3.]\n",
            " [-19.  11.   5.]\n",
            " [ 13.  -8.  -2.]]\n",
            "\n",
            "Adjugate Matrix (Adj(A)):\n",
            " [[ -3. -19.  13.]\n",
            " [  6.  11.  -8.]\n",
            " [ -3.   5.  -2.]]\n"
          ]
        }
      ]
    },
    {
      "cell_type": "markdown",
      "source": [
        "Using Pytorch"
      ],
      "metadata": {
        "id": "vcpMr8lGqoSO"
      }
    },
    {
      "cell_type": "code",
      "source": [
        "import torch\n",
        "\n",
        "A=torch.tensor([[2,3,1],[4,5,6],[7,8,9]], dtype=torch.float32)\n",
        "\n",
        "det_A=torch.det(A)\n",
        "A_inv=torch.inverse(A)\n",
        "cofactor_A=(A_inv * det_A).T\n",
        "adj_A=cofactor_A.T\n",
        "\n",
        "print(\"det_A\\n\", det_A)\n",
        "print(\"A_inv\\n\", A_inv)\n",
        "print(\"cofactor_A\\n\", cofactor_A)\n",
        "print(\"adj_A\\n\", adj_A)"
      ],
      "metadata": {
        "colab": {
          "base_uri": "https://localhost:8080/"
        },
        "id": "jDrKWAR_qrRF",
        "outputId": "d266c4a8-2983-4305-dd47-f444e39bd19f"
      },
      "execution_count": 22,
      "outputs": [
        {
          "output_type": "stream",
          "name": "stdout",
          "text": [
            "det_A\n",
            " tensor(9.)\n",
            "A_inv\n",
            " tensor([[-0.3333, -2.1111,  1.4444],\n",
            "        [ 0.6667,  1.2222, -0.8889],\n",
            "        [-0.3333,  0.5556, -0.2222]])\n",
            "cofactor_A\n",
            " tensor([[ -3.0000,   6.0000,  -3.0000],\n",
            "        [-19.0000,  11.0000,   5.0000],\n",
            "        [ 13.0000,  -8.0000,  -2.0000]])\n",
            "adj_A\n",
            " tensor([[ -3.0000, -19.0000,  13.0000],\n",
            "        [  6.0000,  11.0000,  -8.0000],\n",
            "        [ -3.0000,   5.0000,  -2.0000]])\n"
          ]
        }
      ]
    },
    {
      "cell_type": "markdown",
      "source": [
        "Using Tensor Flow"
      ],
      "metadata": {
        "id": "fXjK3Pa8rXbH"
      }
    },
    {
      "cell_type": "code",
      "source": [
        "import tensorflow as tf\n",
        "\n",
        "A = tf.Variable([[2,3,1],[4,5,6],[7,8,9]], dtype=tf.float32)\n",
        "\n",
        "det_A=tf.linalg.det(A)\n",
        "A_inv=tf.linalg.inv(A)\n",
        "cofactor_a=tf.transpose(A_inv * det_A)\n",
        "adj_A=tf.transpose(cofactor_A)\n",
        "\n",
        "print(\"det_A\\n\", det_A)\n",
        "print(\"A_inv\\n\", A_inv)\n",
        "print(\"cofactor_A\\n\", cofactor_A)\n",
        "print(\"adj_A\\n\", adj_A)\n",
        "\n"
      ],
      "metadata": {
        "colab": {
          "base_uri": "https://localhost:8080/"
        },
        "id": "ZHb6o8ADrbI7",
        "outputId": "5d203dc1-20d0-4f31-b117-8f91e69d0f56"
      },
      "execution_count": 23,
      "outputs": [
        {
          "output_type": "stream",
          "name": "stdout",
          "text": [
            "det_A\n",
            " tf.Tensor(8.999996, shape=(), dtype=float32)\n",
            "A_inv\n",
            " tf.Tensor(\n",
            "[[-0.3333333  -2.1111124   1.4444451 ]\n",
            " [ 0.6666666   1.222223   -0.8888894 ]\n",
            " [-0.33333334  0.55555576 -0.22222236]], shape=(3, 3), dtype=float32)\n",
            "cofactor_A\n",
            " tensor([[ -3.0000,   6.0000,  -3.0000],\n",
            "        [-19.0000,  11.0000,   5.0000],\n",
            "        [ 13.0000,  -8.0000,  -2.0000]])\n",
            "adj_A\n",
            " tf.Tensor(\n",
            "[[ -3.000002  -18.999998   13.       ]\n",
            " [  6.000002   10.999999   -8.       ]\n",
            " [ -2.9999998   4.999999   -1.9999996]], shape=(3, 3), dtype=float32)\n"
          ]
        }
      ]
    },
    {
      "cell_type": "code",
      "source": [
        "import numpy as np\n",
        "\n",
        "A = np.array([[1, 2, 3], [4, 5, 6]])\n",
        "print(np.sum(A))        # Sum of all elements\n",
        "print(np.sum(A, axis=0)) # Column-wise sum\n",
        "print(np.sum(A, axis=1)) # Row-wise sum\n"
      ],
      "metadata": {
        "colab": {
          "base_uri": "https://localhost:8080/"
        },
        "id": "LeS6IYICz73A",
        "outputId": "ddcbbaf7-6a12-45ff-a437-4428e859672e"
      },
      "execution_count": 24,
      "outputs": [
        {
          "output_type": "stream",
          "name": "stdout",
          "text": [
            "21\n",
            "[5 7 9]\n",
            "[ 6 15]\n"
          ]
        }
      ]
    }
  ]
}